{
  "nbformat": 4,
  "nbformat_minor": 0,
  "metadata": {
    "colab": {
      "name": "Logistic regresion - KDD.ipynb",
      "version": "0.3.2",
      "provenance": []
    },
    "kernelspec": {
      "name": "python3",
      "display_name": "Python 3"
    }
  },
  "cells": [
    {
      "metadata": {
        "id": "MvP7gbw73joN",
        "colab_type": "text"
      },
      "cell_type": "markdown",
      "source": [
        "## Digit recognizer usando Scikit Learn y Regresión Lineal"
      ]
    },
    {
      "metadata": {
        "id": "sOthreNa5bKY",
        "colab_type": "text"
      },
      "cell_type": "markdown",
      "source": [
        "Cargar archivos desde Google Drive"
      ]
    },
    {
      "metadata": {
        "id": "XXHIKaOE5Zwl",
        "colab_type": "code",
        "outputId": "7dfc2e54-67b0-497b-c922-c68a870ec4fa",
        "colab": {
          "base_uri": "https://localhost:8080/",
          "height": 34
        }
      },
      "cell_type": "code",
      "source": [
        "from google.colab import drive\n",
        "drive.mount('/content/drive')"
      ],
      "execution_count": 0,
      "outputs": [
        {
          "output_type": "stream",
          "text": [
            "Drive already mounted at /content/drive; to attempt to forcibly remount, call drive.mount(\"/content/drive\", force_remount=True).\n"
          ],
          "name": "stdout"
        }
      ]
    },
    {
      "metadata": {
        "id": "jMvR2YXzDZGY",
        "colab_type": "text"
      },
      "cell_type": "markdown",
      "source": [
        "Importar scikit learn"
      ]
    },
    {
      "metadata": {
        "id": "Kei4idUBDWqw",
        "colab_type": "code",
        "colab": {}
      },
      "cell_type": "code",
      "source": [
        "from sklearn.datasets import fetch_mldata\n",
        "mnist = fetch_mldata('MNIST original')"
      ],
      "execution_count": 0,
      "outputs": []
    },
    {
      "metadata": {
        "id": "kTGzcRtpDjXW",
        "colab_type": "text"
      },
      "cell_type": "markdown",
      "source": [
        "Imprimir el tamaño de nuestro dataset"
      ]
    },
    {
      "metadata": {
        "id": "G6f5xyzpDc5E",
        "colab_type": "code",
        "colab": {}
      },
      "cell_type": "code",
      "source": [
        "# imagenes\n",
        "print(mnist.data.shape)\n",
        "# etiquetas\n",
        "print(mnist.target.shape)"
      ],
      "execution_count": 0,
      "outputs": []
    },
    {
      "metadata": {
        "id": "KkMT6T3-Dn6K",
        "colab_type": "text"
      },
      "cell_type": "markdown",
      "source": [
        "Repartir nuestro dataset en train y test"
      ]
    },
    {
      "metadata": {
        "id": "AHOCwUp9EJzQ",
        "colab_type": "code",
        "colab": {}
      },
      "cell_type": "code",
      "source": [
        "from sklearn.model_selection import train_test_split\n",
        "train_img, test_img, train_lbl, test_lbl = train_test_split(\n",
        " mnist.data, mnist.target, test_size=1/7.0, random_state=0)"
      ],
      "execution_count": 0,
      "outputs": []
    },
    {
      "metadata": {
        "id": "5hiCQuz_EP6J",
        "colab_type": "text"
      },
      "cell_type": "markdown",
      "source": [
        "Mostrar los primeras  5 digitos"
      ]
    },
    {
      "metadata": {
        "id": "ZPBJJ9_REHHi",
        "colab_type": "code",
        "outputId": "4b2346f0-a04c-4b69-f125-fc86d2d5fc7b",
        "colab": {
          "base_uri": "https://localhost:8080/",
          "height": 283
        }
      },
      "cell_type": "code",
      "source": [
        "import numpy as np\n",
        "import matplotlib.pyplot as plt\n",
        "plt.figure(figsize=(20,4))\n",
        "for index, (image, label) in enumerate(zip(train_img[0:5], train_lbl[0:5])):\n",
        " plt.subplot(1, 5, index + 1)\n",
        " plt.imshow(np.reshape(image, (28,28)), cmap=plt.cm.gray)\n",
        " plt.title('Training: %i\\n' % label, fontsize = 20)"
      ],
      "execution_count": 0,
      "outputs": [
        {
          "output_type": "display_data",
          "data": {
            "image/png": "[encoded data removed]",
            "text/plain": [
              "<matplotlib.figure.Figure at 0x7feb1fd31b00>"
            ]
          },
          "metadata": {
            "tags": []
          }
        }
      ]
    },
    {
      "metadata": {
        "id": "6Wwu7v_tEbUV",
        "colab_type": "text"
      },
      "cell_type": "markdown",
      "source": [
        "Importar el modelo de Regresion logistica"
      ]
    },
    {
      "metadata": {
        "id": "a3goABykEgiI",
        "colab_type": "code",
        "colab": {}
      },
      "cell_type": "code",
      "source": [
        "from sklearn.linear_model import LogisticRegression"
      ],
      "execution_count": 0,
      "outputs": []
    },
    {
      "metadata": {
        "id": "_i8sXPhbEmnH",
        "colab_type": "code",
        "colab": {}
      },
      "cell_type": "code",
      "source": [
        "logisticRegr = LogisticRegression(solver = 'lbfgs')"
      ],
      "execution_count": 0,
      "outputs": []
    },
    {
      "metadata": {
        "id": "nJyiW8SuEsh4",
        "colab_type": "text"
      },
      "cell_type": "markdown",
      "source": [
        "Entrenar nuestro modelo"
      ]
    },
    {
      "metadata": {
        "id": "mQTlHtvbEuTg",
        "colab_type": "code",
        "outputId": "3874e9be-e0f8-4064-aba5-6ca5195a673f",
        "colab": {
          "base_uri": "https://localhost:8080/",
          "height": 85
        }
      },
      "cell_type": "code",
      "source": [
        "logisticRegr.fit(train_img, train_lbl)"
      ],
      "execution_count": 0,
      "outputs": [
        {
          "output_type": "execute_result",
          "data": {
            "text/plain": [
              "LogisticRegression(C=1.0, class_weight=None, dual=False, fit_intercept=True,\n",
              "          intercept_scaling=1, max_iter=100, multi_class='ovr', n_jobs=1,\n",
              "          penalty='l2', random_state=None, solver='lbfgs', tol=0.0001,\n",
              "          verbose=0, warm_start=False)"
            ]
          },
          "metadata": {
            "tags": []
          },
          "execution_count": 25
        }
      ]
    },
    {
      "metadata": {
        "id": "yCOz-ZavEvHO",
        "colab_type": "text"
      },
      "cell_type": "markdown",
      "source": [
        "Predecir números usando nuestro modelo entrenado"
      ]
    },
    {
      "metadata": {
        "id": "8jvyen1AE46T",
        "colab_type": "code",
        "colab": {}
      },
      "cell_type": "code",
      "source": [
        "predictions = logisticRegr.predict(test_img)"
      ],
      "execution_count": 0,
      "outputs": []
    },
    {
      "metadata": {
        "id": "9DwDD9CXFFTZ",
        "colab_type": "text"
      },
      "cell_type": "markdown",
      "source": [
        "Medimos la presicion"
      ]
    },
    {
      "metadata": {
        "id": "x62UJqyDFGtQ",
        "colab_type": "code",
        "outputId": "7d19f114-8895-4ca8-cdf3-61108e2ab327",
        "colab": {
          "base_uri": "https://localhost:8080/",
          "height": 34
        }
      },
      "cell_type": "code",
      "source": [
        "score = logisticRegr.score(test_img, test_lbl)\n",
        "print(score)"
      ],
      "execution_count": 0,
      "outputs": [
        {
          "output_type": "stream",
          "text": [
            "0.9134\n"
          ],
          "name": "stdout"
        }
      ]
    },
    {
      "metadata": {
        "id": "ihFb6x-NFfyL",
        "colab_type": "text"
      },
      "cell_type": "markdown",
      "source": [
        "Ploteanod la matriz de confusión"
      ]
    },
    {
      "metadata": {
        "id": "6XPRKXrUIdRL",
        "colab_type": "code",
        "colab": {}
      },
      "cell_type": "code",
      "source": [
        "import matplotlib.pyplot as plt\n",
        "import seaborn as sns\n",
        "from sklearn import metrics"
      ],
      "execution_count": 0,
      "outputs": []
    },
    {
      "metadata": {
        "id": "_pNikzN3Fiuw",
        "colab_type": "code",
        "outputId": "34c4558e-5255-476e-c508-ac2d02a40ea4",
        "colab": {
          "base_uri": "https://localhost:8080/",
          "height": 187
        }
      },
      "cell_type": "code",
      "source": [
        "cm = metrics.confusion_matrix(test_lbl, predictions)\n",
        "print(cm)"
      ],
      "execution_count": 0,
      "outputs": [
        {
          "output_type": "stream",
          "text": [
            "[[ 908    0    3    4    2    3    7    1    7    1]\n",
            " [   0 1121   10    4    1    4    4    2   14    3]\n",
            " [   3    8  877   17   13    3   15   14   30    2]\n",
            " [   1    7   32  927    0   25    2    7   25   12]\n",
            " [   5    1    5    0  873    2    8    4   10   40]\n",
            " [  12    4   10   39   11  778   17    5   33   12]\n",
            " [   4    1    5    1    5    9  982    0    5    1]\n",
            " [   8    3   16    3   12    1    0  942    5   39]\n",
            " [   5   20   11   29    6   30    9    4  849   15]\n",
            " [   7    2    4   19   39    5    0   28   11  877]]\n"
          ],
          "name": "stdout"
        }
      ]
    },
    {
      "metadata": {
        "id": "lNzlg_6lM0B7",
        "colab_type": "code",
        "outputId": "e31e90d4-86bb-4ae0-c7d4-3ca54b4ebc5b",
        "colab": {
          "base_uri": "https://localhost:8080/",
          "height": 872
        }
      },
      "cell_type": "code",
      "source": [
        "plt.figure(figsize=(9,9))\n",
        "plt.imshow(cm, interpolation='nearest', cmap='Pastel1')\n",
        "plt.title('Confusion matrix', size = 15)\n",
        "plt.colorbar()\n",
        "tick_marks = np.arange(10)\n",
        "plt.xticks(tick_marks, [\"0\", \"1\", \"2\", \"3\", \"4\", \"5\", \"6\", \"7\", \"8\", \"9\"], rotation=45, size = 10)\n",
        "plt.yticks(tick_marks, [\"0\", \"1\", \"2\", \"3\", \"4\", \"5\", \"6\", \"7\", \"8\", \"9\"], size = 10)\n",
        "plt.tight_layout()\n",
        "plt.ylabel('Actual label', size = 15)\n",
        "plt.xlabel('Predicted label', size = 15)\n",
        "width, height = cm.shape\n",
        "for x in xrange(width):\n",
        " for y in xrange(height):\n",
        "  plt.annotate(str(cm[x][y]), xy=(y, x), \n",
        "  horizontalalignment='center',\n",
        "  verticalalignment='center')"
      ],
      "execution_count": 0,
      "outputs": [
        {
          "output_type": "error",
          "ename": "NameError",
          "evalue": "ignored",
          "traceback": [
            "\u001b[0;31m---------------------------------------------------------------------------\u001b[0m",
            "\u001b[0;31mNameError\u001b[0m                                 Traceback (most recent call last)",
            "\u001b[0;32m<ipython-input-34-28363b2b858f>\u001b[0m in \u001b[0;36m<module>\u001b[0;34m()\u001b[0m\n\u001b[1;32m     10\u001b[0m \u001b[0mplt\u001b[0m\u001b[0;34m.\u001b[0m\u001b[0mxlabel\u001b[0m\u001b[0;34m(\u001b[0m\u001b[0;34m'Predicted label'\u001b[0m\u001b[0;34m,\u001b[0m \u001b[0msize\u001b[0m \u001b[0;34m=\u001b[0m \u001b[0;36m15\u001b[0m\u001b[0;34m)\u001b[0m\u001b[0;34m\u001b[0m\u001b[0;34m\u001b[0m\u001b[0m\n\u001b[1;32m     11\u001b[0m \u001b[0mwidth\u001b[0m\u001b[0;34m,\u001b[0m \u001b[0mheight\u001b[0m \u001b[0;34m=\u001b[0m \u001b[0mcm\u001b[0m\u001b[0;34m.\u001b[0m\u001b[0mshape\u001b[0m\u001b[0;34m\u001b[0m\u001b[0;34m\u001b[0m\u001b[0m\n\u001b[0;32m---> 12\u001b[0;31m \u001b[0;32mfor\u001b[0m \u001b[0mx\u001b[0m \u001b[0;32min\u001b[0m \u001b[0mxrange\u001b[0m\u001b[0;34m(\u001b[0m\u001b[0mwidth\u001b[0m\u001b[0;34m)\u001b[0m\u001b[0;34m:\u001b[0m\u001b[0;34m\u001b[0m\u001b[0;34m\u001b[0m\u001b[0m\n\u001b[0m\u001b[1;32m     13\u001b[0m  \u001b[0;32mfor\u001b[0m \u001b[0my\u001b[0m \u001b[0;32min\u001b[0m \u001b[0mxrange\u001b[0m\u001b[0;34m(\u001b[0m\u001b[0mheight\u001b[0m\u001b[0;34m)\u001b[0m\u001b[0;34m:\u001b[0m\u001b[0;34m\u001b[0m\u001b[0;34m\u001b[0m\u001b[0m\n\u001b[1;32m     14\u001b[0m   plt.annotate(str(cm[x][y]), xy=(y, x), \n",
            "\u001b[0;31mNameError\u001b[0m: name 'xrange' is not defined"
          ]
        },
        {
          "output_type": "display_data",
          "data": {
            "image/png": "[encoded data removed]",
            "text/plain": [
              "<matplotlib.figure.Figure at 0x7feb1be61e48>"
            ]
          },
          "metadata": {
            "tags": []
          }
        }
      ]
    }
  ]
}